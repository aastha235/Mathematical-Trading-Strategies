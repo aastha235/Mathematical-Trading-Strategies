{
 "cells": [
  {
   "cell_type": "code",
   "execution_count": 1,
   "id": "0942dabb",
   "metadata": {},
   "outputs": [],
   "source": [
    "import yfinance as yf\n",
    "import pandas as pd\n"
   ]
  },
  {
   "cell_type": "code",
   "execution_count": 2,
   "id": "d567390e",
   "metadata": {},
   "outputs": [],
   "source": [
    "nasdaq_ticker = \"^IXIC\"\n",
    "nse_ticker = \"^NSEI\""
   ]
  },
  {
   "cell_type": "code",
   "execution_count": 3,
   "id": "e9de2ac0",
   "metadata": {},
   "outputs": [
    {
     "name": "stdout",
     "output_type": "stream",
     "text": [
      "[*********************100%***********************]  1 of 1 completed\n"
     ]
    }
   ],
   "source": [
    "nasdaq_data = yf.download(nasdaq_ticker, start=\"2010-01-01\", end=\"2023-5-1\")\n"
   ]
  },
  {
   "cell_type": "code",
   "execution_count": 4,
   "id": "d1d370f5",
   "metadata": {},
   "outputs": [
    {
     "name": "stdout",
     "output_type": "stream",
     "text": [
      "[*********************100%***********************]  1 of 1 completed\n"
     ]
    }
   ],
   "source": [
    "nse_data = yf.download(nse_ticker, start=\"2010-01-01\", end=\"2023-5-1\")\n"
   ]
  },
  {
   "cell_type": "code",
   "execution_count": 5,
   "id": "b68fd58c",
   "metadata": {},
   "outputs": [
    {
     "name": "stdout",
     "output_type": "stream",
     "text": [
      "Correlation Coefficient:  0.9513138758576782\n"
     ]
    }
   ],
   "source": [
    "nasdaq_close = nasdaq_data['Close']\n",
    "nse_close = nse_data['Close']\n",
    "\n",
    "correlation_coefficient = nasdaq_close.corr(nse_close)\n",
    "\n",
    "print(\"Correlation Coefficient: \", correlation_coefficient)"
   ]
  },
  {
   "cell_type": "code",
   "execution_count": 6,
   "id": "3acaad13",
   "metadata": {},
   "outputs": [],
   "source": [
    "nasdaq_returns = nasdaq_close.pct_change()\n",
    "nse_returns = nse_close.pct_change()\n"
   ]
  },
  {
   "cell_type": "code",
   "execution_count": 7,
   "id": "0408f4e1",
   "metadata": {},
   "outputs": [],
   "source": [
    "lag = range(1, 21)"
   ]
  },
  {
   "cell_type": "code",
   "execution_count": 8,
   "id": "cbfaf188",
   "metadata": {},
   "outputs": [],
   "source": [
    "correlations = []\n",
    "for l in lag:\n",
    "    nasdaq_lagged_returns = nasdaq_returns.shift(l)\n",
    "    correlation = nasdaq_lagged_returns.corr(nse_returns)\n",
    "    correlations.append(correlation)"
   ]
  },
  {
   "cell_type": "code",
   "execution_count": 9,
   "id": "ef8507b1",
   "metadata": {},
   "outputs": [],
   "source": [
    "optimal = lag[correlations.index(max(correlations))]\n"
   ]
  },
  {
   "cell_type": "code",
   "execution_count": 10,
   "id": "00e39cda",
   "metadata": {},
   "outputs": [],
   "source": [
    "leadlag = \"NASDAQ leads\" if correlations.index(max(correlations)) > 0 else \"NASDAQ lags\""
   ]
  },
  {
   "cell_type": "code",
   "execution_count": 27,
   "id": "bec42333",
   "metadata": {},
   "outputs": [
    {
     "name": "stdout",
     "output_type": "stream",
     "text": [
      "Lead-Lag Relationship:  NASDAQ lags\n"
     ]
    }
   ],
   "source": [
    "print(\"Lead-Lag Relationship: \", leadlag)\n"
   ]
  },
  {
   "cell_type": "code",
   "execution_count": 12,
   "id": "be4d7671",
   "metadata": {},
   "outputs": [],
   "source": [
    "def keltner_channel(data, n=20, k=2):\n",
    "    typical_price = (data['High'] + data['Low'] + data['Close']) / 3\n",
    "    sma = typical_price.rolling(n).mean()\n",
    "    atr = data['High'] - data['Low']\n",
    "    upper = sma + (k * atr)\n",
    "    lower = sma - (k * atr)\n",
    "    return upper, lower"
   ]
  },
  {
   "cell_type": "code",
   "execution_count": 13,
   "id": "f521154f",
   "metadata": {},
   "outputs": [],
   "source": [
    "def bollinger_bands(data, n=20, k=2):\n",
    "    sma = data['Close'].rolling(n).mean()\n",
    "    std = data['Close'].rolling(n).std()\n",
    "    upper = sma + (k * std)\n",
    "    lower = sma - (k * std)\n",
    "    return upper, lower\n",
    "\n",
    "def macd_(data, n_fast=12, n_slow=26):\n",
    "    ema_fast = data['Close'].ewm(span=n_fast).mean()\n",
    "    ema_slow = data['Close'].ewm(span=n_slow).mean()\n",
    "    macd_line = ema_fast - ema_slow\n",
    "    signal_line = macd_line.ewm(span=9).mean()\n",
    "    return macd_line, signal_line"
   ]
  },
  {
   "cell_type": "code",
   "execution_count": 15,
   "id": "553f821a",
   "metadata": {},
   "outputs": [
    {
     "name": "stdout",
     "output_type": "stream",
     "text": [
      "Keltner Channel (Upper Band):\n",
      "Date\n",
      "2010-01-04             NaN\n",
      "2010-01-05             NaN\n",
      "2010-01-06             NaN\n",
      "2010-01-07             NaN\n",
      "2010-01-08             NaN\n",
      "                  ...     \n",
      "2023-04-24    12326.428174\n",
      "2023-04-25    12426.203320\n",
      "2023-04-26    12321.854639\n",
      "2023-04-27    12467.460824\n",
      "2023-04-28    12360.333968\n",
      "Length: 3353, dtype: float64\n",
      "\n",
      "Keltner Channel (Lower Band):\n",
      "Date\n",
      "2010-01-04             NaN\n",
      "2010-01-05             NaN\n",
      "2010-01-06             NaN\n",
      "2010-01-07             NaN\n",
      "2010-01-08             NaN\n",
      "                  ...     \n",
      "2023-04-24    11753.307080\n",
      "2023-04-25    11659.441602\n",
      "2023-04-26    11782.174951\n",
      "2023-04-27    11655.101449\n",
      "2023-04-28    11779.736312\n",
      "Length: 3353, dtype: float64\n",
      "\n",
      "Bollinger Bands (Upper Band):\n",
      "Date\n",
      "2010-01-04             NaN\n",
      "2010-01-05             NaN\n",
      "2010-01-06             NaN\n",
      "2010-01-07             NaN\n",
      "2010-01-08             NaN\n",
      "                  ...     \n",
      "2023-04-24    12316.892530\n",
      "2023-04-25    12311.900802\n",
      "2023-04-26    12286.403134\n",
      "2023-04-27    12290.989123\n",
      "2023-04-28    12310.503787\n",
      "Name: Close, Length: 3353, dtype: float64\n",
      "\n",
      "Bollinger Bands (Lower Band):\n",
      "Date\n",
      "2010-01-04             NaN\n",
      "2010-01-05             NaN\n",
      "2010-01-06             NaN\n",
      "2010-01-07             NaN\n",
      "2010-01-08             NaN\n",
      "                  ...     \n",
      "2023-04-24    11785.111473\n",
      "2023-04-25    11793.135233\n",
      "2023-04-26    11832.459854\n",
      "2023-04-27    11849.473865\n",
      "2023-04-28    11851.270236\n",
      "Name: Close, Length: 3353, dtype: float64\n",
      "\n",
      "MACD Line:\n",
      "Date\n",
      "2010-01-04     0.000000\n",
      "2010-01-05     0.006507\n",
      "2010-01-06    -0.228000\n",
      "2010-01-07    -0.366621\n",
      "2010-01-08     0.247011\n",
      "                ...    \n",
      "2023-04-24    98.871693\n",
      "2023-04-25    70.095771\n",
      "2023-04-26    51.154298\n",
      "2023-04-27    58.696791\n",
      "2023-04-28    70.665208\n",
      "Name: Close, Length: 3353, dtype: float64\n",
      "\n",
      "Signal Line:\n",
      "Date\n",
      "2010-01-04      0.000000\n",
      "2010-01-05      0.003615\n",
      "2010-01-06     -0.091309\n",
      "2010-01-07     -0.184572\n",
      "2010-01-08     -0.056186\n",
      "                 ...    \n",
      "2023-04-24    119.419535\n",
      "2023-04-25    109.554782\n",
      "2023-04-26     97.874685\n",
      "2023-04-27     90.039106\n",
      "2023-04-28     86.164327\n",
      "Name: Close, Length: 3353, dtype: float64\n",
      "Keltner Channel (Upper Band):\n",
      "Date\n",
      "2010-01-04             NaN\n",
      "2010-01-05             NaN\n",
      "2010-01-06             NaN\n",
      "2010-01-07             NaN\n",
      "2010-01-08             NaN\n",
      "                  ...     \n",
      "2023-04-24    17732.002507\n",
      "2023-04-25    17659.644206\n",
      "2023-04-26    17745.295671\n",
      "2023-04-27    17824.137565\n",
      "2023-04-28    18015.175033\n",
      "Length: 3268, dtype: float64\n",
      "\n",
      "Keltner Channel (Lower Band):\n",
      "Date\n",
      "2010-01-04             NaN\n",
      "2010-01-05             NaN\n",
      "2010-01-06             NaN\n",
      "2010-01-07             NaN\n",
      "2010-01-08             NaN\n",
      "                  ...     \n",
      "2023-04-24    17164.002507\n",
      "2023-04-25    17297.245768\n",
      "2023-04-26    17279.092546\n",
      "2023-04-27    17289.340690\n",
      "2023-04-28    17199.776595\n",
      "Length: 3268, dtype: float64\n",
      "\n",
      "Bollinger Bands (Upper Band):\n",
      "Date\n",
      "2010-01-04             NaN\n",
      "2010-01-05             NaN\n",
      "2010-01-06             NaN\n",
      "2010-01-07             NaN\n",
      "2010-01-08             NaN\n",
      "                  ...     \n",
      "2023-04-24    18067.681252\n",
      "2023-04-25    18096.773605\n",
      "2023-04-26    18118.854963\n",
      "2023-04-27    18126.521448\n",
      "2023-04-28    18150.564534\n",
      "Name: Close, Length: 3268, dtype: float64\n",
      "\n",
      "Bollinger Bands (Lower Band):\n",
      "Date\n",
      "2010-01-04             NaN\n",
      "2010-01-05             NaN\n",
      "2010-01-06             NaN\n",
      "2010-01-07             NaN\n",
      "2010-01-08             NaN\n",
      "                  ...     \n",
      "2023-04-24    16839.354099\n",
      "2023-04-25    16871.996708\n",
      "2023-04-26    16923.585272\n",
      "2023-04-27    17012.918786\n",
      "2023-04-28    17096.805779\n",
      "Name: Close, Length: 3268, dtype: float64\n",
      "\n",
      "MACD Line:\n",
      "Date\n",
      "2010-01-04      0.000000\n",
      "2010-01-05      1.025314\n",
      "2010-01-06      1.427389\n",
      "2010-01-07      0.900133\n",
      "2010-01-08     -0.135512\n",
      "                 ...    \n",
      "2023-04-24     89.150961\n",
      "2023-04-25     95.090728\n",
      "2023-04-26    102.198597\n",
      "2023-04-27    114.695755\n",
      "2023-04-28    135.141663\n",
      "Name: Close, Length: 3268, dtype: float64\n",
      "\n",
      "Signal Line:\n",
      "Date\n",
      "2010-01-04     0.000000\n",
      "2010-01-05     0.569619\n",
      "2010-01-06     0.921164\n",
      "2010-01-07     0.914040\n",
      "2010-01-08     0.601822\n",
      "                ...    \n",
      "2023-04-24    58.377980\n",
      "2023-04-25    65.720530\n",
      "2023-04-26    73.016143\n",
      "2023-04-27    81.352066\n",
      "2023-04-28    92.109985\n",
      "Name: Close, Length: 3268, dtype: float64\n"
     ]
    }
   ],
   "source": [
    "keltner_upper1, keltner_lower1 = keltner_channel(nasdaq_data)\n",
    "keltner_upper2, keltner_lower2 = keltner_channel(nse_data)\n",
    "\n",
    "bollinger_upper1, bollinger_lower1 = bollinger_bands(nasdaq_data)\n",
    "bollinger_upper2, bollinger_lower2 = bollinger_bands(nse_data)\n",
    "\n",
    "\n",
    "macd_line1, signal_line1 = macd_(nasdaq_data)\n",
    "macd_line2, signal_line2 = macd_(nse_data)\n",
    "\n",
    "\n",
    "print(\"Keltner Channel (Upper Band):\")\n",
    "print(keltner_upper1)\n",
    "print(\"\\nKeltner Channel (Lower Band):\")\n",
    "print(keltner_lower1)\n",
    "print(\"\\nBollinger Bands (Upper Band):\")\n",
    "print(bollinger_upper1)\n",
    "print(\"\\nBollinger Bands (Lower Band):\")\n",
    "print(bollinger_lower1)\n",
    "print(\"\\nMACD Line:\")\n",
    "print(macd_line1)\n",
    "print(\"\\nSignal Line:\")\n",
    "print(signal_line1)\n",
    "\n",
    "print(\"Keltner Channel (Upper Band):\")\n",
    "print(keltner_upper2)\n",
    "print(\"\\nKeltner Channel (Lower Band):\")\n",
    "print(keltner_lower2)\n",
    "print(\"\\nBollinger Bands (Upper Band):\")\n",
    "print(bollinger_upper2)\n",
    "print(\"\\nBollinger Bands (Lower Band):\")\n",
    "print(bollinger_lower2)\n",
    "print(\"\\nMACD Line:\")\n",
    "print(macd_line2)\n",
    "print(\"\\nSignal Line:\")\n",
    "print(signal_line2)"
   ]
  },
  {
   "cell_type": "code",
   "execution_count": 16,
   "id": "9b868442",
   "metadata": {},
   "outputs": [],
   "source": [
    "keltner_params = [(10, 1.5), (20, 2.0), (30, 2.5)]\n",
    "bollinger_params = [(20, 1.5), (30, 2.0), (40, 2.5)]\n",
    "macd_params = [(12, 26), (15, 30), (20, 40)]"
   ]
  },
  {
   "cell_type": "code",
   "execution_count": 17,
   "id": "04805433",
   "metadata": {},
   "outputs": [],
   "source": [
    "best_parameters = None\n",
    "best_metric = float('-inf')"
   ]
  },
  {
   "cell_type": "code",
   "execution_count": 25,
   "id": "d8490776",
   "metadata": {},
   "outputs": [
    {
     "name": "stdout",
     "output_type": "stream",
     "text": [
      "Best Parameters for NASDAQ: (10, 1.5, 20, 1.5, 12, 26)\n",
      "Best Metric FOR NASDAQ: 0.13347676852201573\n"
     ]
    }
   ],
   "source": [
    "for keltner1, keltner2 in keltner_params:\n",
    "    for bollinger1, bollinger2 in bollinger_params:\n",
    "        for macd_fast, macd_slow in macd_params:\n",
    "            keltner_upper, keltner_lower = keltner_channel(nasdaq_data, keltner1, keltner2)\n",
    "            bollinger_upper, bollinger_lower = bollinger_bands(nasdaq_data, bollinger1, bollinger2)\n",
    "            macd_line, signal_line = macd_(nasdaq_data, macd_fast, macd_slow)\n",
    "           \n",
    "            returns = nasdaq_data['Close'].pct_change()\n",
    "            annualized_return = np.prod(returns + 1) ** (252 / len(returns)) - 1\n",
    "            \n",
    "            if annualized_return > best_metric:\n",
    "                best_parameters = (keltner1, keltner2, bollinger1, bollinger2, macd_fast, macd_slow)\n",
    "                best_metric = annualized_return\n",
    "\n",
    "print(\"Best Parameters for NASDAQ:\", best_parameters)\n",
    "print(\"Best Metric FOR NASDAQ:\", best_metric)"
   ]
  },
  {
   "cell_type": "code",
   "execution_count": 21,
   "id": "d144d2f1",
   "metadata": {},
   "outputs": [],
   "source": [
    "import numpy as np"
   ]
  },
  {
   "cell_type": "code",
   "execution_count": 28,
   "id": "32966189",
   "metadata": {},
   "outputs": [],
   "source": [
    "keltner_n = 10\n",
    "keltner_k = 1.5\n",
    "bollinger_n = 20\n",
    "bollinger_k = 1.5\n",
    "macd_fast = 12\n",
    "macd_slow = 26"
   ]
  },
  {
   "cell_type": "code",
   "execution_count": 30,
   "id": "09efaecd",
   "metadata": {},
   "outputs": [],
   "source": [
    "nse_keltner_upper, nse_keltner_lower = keltner_channel(nse_data, keltner1, keltner2)\n",
    "nse_bollinger_upper, nse_bollinger_lower = bollinger_bands(nse_data, bollinger1, bollinger2)\n",
    "nse_macd_line, nse_signal_line = macd_(nse_data, macd_fast, macd_slow)\n",
    "\n",
    "\n"
   ]
  },
  {
   "cell_type": "code",
   "execution_count": 31,
   "id": "b943cefb",
   "metadata": {},
   "outputs": [],
   "source": [
    "nse_signals = pd.DataFrame(index=nse_data.index)\n",
    "nse_signals['Keltner'] = np.where(nse_data['Close'] > nse_keltner_upper, -1, np.where(nse_data['Close'] < nse_keltner_lower, 1, 0))\n",
    "nse_signals['Bollinger'] = np.where(nse_data['Close'] > nse_bollinger_upper, -1, np.where(nse_data['Close'] < nse_bollinger_lower, 1, 0))\n",
    "nse_signals['MACD'] = np.where(nse_macd_line > nse_signal_line, 1, np.where(nse_macd_line < nse_signal_line, -1, 0))"
   ]
  },
  {
   "cell_type": "code",
   "execution_count": 32,
   "id": "e8f8b1e5",
   "metadata": {},
   "outputs": [],
   "source": [
    "nse_signals['Date'] = nse_signals.index\n",
    "nse_signals['Return'] = nse_data['Close'].pct_change()\n"
   ]
  },
  {
   "cell_type": "code",
   "execution_count": 33,
   "id": "46e0cb0c",
   "metadata": {},
   "outputs": [
    {
     "name": "stdout",
     "output_type": "stream",
     "text": [
      "\n",
      "NSE Signals:\n",
      "            Keltner  Bollinger  MACD       Date    Return\n",
      "Date                                                     \n",
      "2010-01-04        0          0     0 2010-01-04       NaN\n",
      "2010-01-05        0          0     1 2010-01-05  0.008734\n",
      "2010-01-06        0          0     1 2010-01-06  0.000739\n",
      "2010-01-07        0          0    -1 2010-01-07 -0.003540\n",
      "2010-01-08        0          0    -1 2010-01-08 -0.003487\n",
      "...             ...        ...   ...        ...       ...\n",
      "2023-04-24       -1          0     1 2023-04-24  0.006772\n",
      "2023-04-25       -1          0     1 2023-04-25  0.001457\n",
      "2023-04-26       -1          0     1 2023-04-26  0.002496\n",
      "2023-04-27       -1          0     1 2023-04-27  0.005695\n",
      "2023-04-28       -1          0     1 2023-04-28  0.008370\n",
      "\n",
      "[3268 rows x 5 columns]\n"
     ]
    }
   ],
   "source": [
    "print(\"\\nNSE Signals:\")\n",
    "print(nse_signals)\n"
   ]
  },
  {
   "cell_type": "code",
   "execution_count": null,
   "id": "a24b096b",
   "metadata": {},
   "outputs": [],
   "source": []
  }
 ],
 "metadata": {
  "kernelspec": {
   "display_name": "Python 3 (ipykernel)",
   "language": "python",
   "name": "python3"
  },
  "language_info": {
   "codemirror_mode": {
    "name": "ipython",
    "version": 3
   },
   "file_extension": ".py",
   "mimetype": "text/x-python",
   "name": "python",
   "nbconvert_exporter": "python",
   "pygments_lexer": "ipython3",
   "version": "3.10.11"
  }
 },
 "nbformat": 4,
 "nbformat_minor": 5
}
