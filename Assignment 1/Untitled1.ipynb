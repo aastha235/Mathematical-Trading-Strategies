{
 "cells": [
  {
   "cell_type": "code",
   "execution_count": 1,
   "id": "00663e3a",
   "metadata": {},
   "outputs": [
    {
     "name": "stdout",
     "output_type": "stream",
     "text": [
      "         Cumulative Returns Volatality Sharpe Ratio Sortino Ratio  \\\n",
      "^XAX               130.1159   0.195989      0.22759      0.289908   \n",
      "^IXIC            432.885602   0.206055     0.535864      0.676756   \n",
      "^NYA             116.366363   0.175517     0.203955      0.249111   \n",
      "^FTSE             45.404501   0.162515     0.023785       0.03072   \n",
      "^BUK100P          42.983887   0.159252     0.029592      0.038149   \n",
      "\n",
      "         Maximum Drawdown  \n",
      "^XAX            -3.286219  \n",
      "^IXIC          -27.268585  \n",
      "^NYA            -3.483075  \n",
      "^FTSE           -3.341905  \n",
      "^BUK100P        -3.524264  \n",
      "     Cumulative Returns Volatality Sharpe Ratio Sortino Ratio Maximum Drawdown\n",
      "BAC           92.125992   0.346387     0.243609      0.337859        -3.935269\n",
      "MSFT         903.461794   0.261395     0.730091      1.020629       -33.204829\n",
      "IBM            0.796514    0.22404     0.102996      0.130061        -2.619286\n",
      "AXP          295.344256   0.295909     0.423348      0.574386        -6.220994\n",
      "XOM           72.206045   0.254249     0.293175      0.406486        -3.216268\n"
     ]
    }
   ],
   "source": [
    "import yfinance as yf\n",
    "import pandas as pd\n",
    "import numpy as np\n",
    "from scipy.stats import norm\n",
    "\n",
    "indices = ['^XAX', '^IXIC', '^NYA', '^FTSE', '^BUK100P']\n",
    "equities = ['BAC', 'MSFT', 'IBM', 'AXP', 'XOM']\n",
    "\n",
    "risk_free_rate = 5.25\n",
    "trading_days_per_year = 252  \n",
    "interest_earning_days_per_year = 365\n",
    "\n",
    "results_indices = pd.DataFrame(index=indices, columns=['Cumulative Returns', 'Volatality', 'Sharpe Ratio', 'Sortino Ratio', 'Maximum Drawdown'])\n",
    "\n",
    "for index in indices:\n",
    "    data = yf.download(index, start='2010-01-01', end='2023-05-01', progress=False)\n",
    "    data['Daily Returns'] = data['Adj Close'].pct_change()\n",
    "    results_indices.loc[index, 'Cumulative Returns'] = (data.iloc[-1]['Close'] - data.iloc[0]['Open'])*100/data.iloc[0]['Open']\n",
    "    data['Cumulative Maximum Daily Returns'] = data['Daily Returns'].cummax()\n",
    "    data['Drawdown'] = (data['Daily Returns']/data['Daily Returns'].cummax() - 1)\n",
    "    results_indices.loc[index, 'Maximum Drawdown'] = data['Drawdown'].min()\n",
    "    mean_return = data['Daily Returns'].mean()\n",
    "    std_return = data['Daily Returns'].std()\n",
    "    sharpe_ratio = (mean_return - risk_free_rate/100/interest_earning_days_per_year) / std_return * np.sqrt(trading_days_per_year)\n",
    "    results_indices.loc[index, 'Sharpe Ratio'] = sharpe_ratio\n",
    "    results_indices.loc[index, 'Volatality'] = std_return* np.sqrt(trading_days_per_year)\n",
    "    sortino_ratio = (mean_return - risk_free_rate/100/interest_earning_days_per_year) / data['Daily Returns'][data['Daily Returns'] < 0].std() * np.sqrt(trading_days_per_year)\n",
    "    results_indices.loc[index, 'Sortino Ratio'] = sortino_ratio\n",
    "    \n",
    "    \n",
    "print(results_indices)\n",
    "\n",
    "results_equities = pd.DataFrame(index=equities, columns=['Cumulative Returns', 'Volatality', 'Sharpe Ratio', 'Sortino Ratio', 'Maximum Drawdown'])\n",
    "\n",
    "for equity in equities:\n",
    "    data = yf.download(equity, start='2010-01-01', end='2023-05-01', progress=False)\n",
    "    data['Daily Returns'] = data['Adj Close'].pct_change()\n",
    "    results_equities.loc[equity, 'Cumulative Returns'] = (data.iloc[-1]['Close'] - data.iloc[0]['Open'])*100/data.iloc[0]['Open']\n",
    "    data['Cumulative Maximum Daily Returns'] = data['Daily Returns'].cummax()\n",
    "    data['Drawdown'] = (data['Daily Returns']/data['Daily Returns'].cummax() - 1)\n",
    "    results_equities.loc[equity, 'Maximum Drawdown'] = data['Drawdown'].min()\n",
    "    mean_return = data['Daily Returns'].mean()\n",
    "    std_return = data['Daily Returns'].std()\n",
    "    sharpe_ratio = (mean_return - risk_free_rate/100/interest_earning_days_per_year) / std_return * np.sqrt(trading_days_per_year)\n",
    "    results_equities.loc[equity, 'Sharpe Ratio'] = sharpe_ratio\n",
    "    results_equities.loc[equity, 'Volatality'] = std_return * np.sqrt(trading_days_per_year)\n",
    "    sortino_ratio = (mean_return - risk_free_rate/100/interest_earning_days_per_year) / data['Daily Returns'][data['Daily Returns'] < 0].std() * np.sqrt(trading_days_per_year)\n",
    "    results_equities.loc[equity, 'Sortino Ratio'] = sortino_ratio\n",
    "    \n",
    "print(results_equities)"
   ]
  },
  {
   "cell_type": "code",
   "execution_count": null,
   "id": "5006ab83",
   "metadata": {},
   "outputs": [],
   "source": []
  }
 ],
 "metadata": {
  "kernelspec": {
   "display_name": "Python 3 (ipykernel)",
   "language": "python",
   "name": "python3"
  },
  "language_info": {
   "codemirror_mode": {
    "name": "ipython",
    "version": 3
   },
   "file_extension": ".py",
   "mimetype": "text/x-python",
   "name": "python",
   "nbconvert_exporter": "python",
   "pygments_lexer": "ipython3",
   "version": "3.10.9"
  }
 },
 "nbformat": 4,
 "nbformat_minor": 5
}
